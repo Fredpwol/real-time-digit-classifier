{
 "cells": [
  {
   "cell_type": "markdown",
   "metadata": {},
   "source": [
    "# Mnist Digit Classifier Model"
   ]
  },
  {
   "cell_type": "code",
   "execution_count": 33,
   "metadata": {},
   "outputs": [],
   "source": [
    "import numpy as np\n",
    "from keras.datasets import mnist\n",
    "from keras.models import Sequential\n",
    "from keras.layers import Dense, Conv2D, MaxPooling2D, Flatten, Dropout\n",
    "import matplotlib.pyplot as plt\n",
    "import tensorflow as tf"
   ]
  },
  {
   "cell_type": "code",
   "execution_count": 50,
   "metadata": {},
   "outputs": [],
   "source": [
    "(X_train, y_train), (X_test, y_test) = mnist.load_data()\n",
    "n_output = 10"
   ]
  },
  {
   "cell_type": "code",
   "execution_count": 51,
   "metadata": {},
   "outputs": [
    {
     "data": {
      "text/plain": [
       "(28, 28)"
      ]
     },
     "execution_count": 51,
     "metadata": {},
     "output_type": "execute_result"
    }
   ],
   "source": [
    "X_test[0].shape"
   ]
  },
  {
   "cell_type": "code",
   "execution_count": 52,
   "metadata": {},
   "outputs": [
    {
     "data": {
      "image/png": "[encoded data removed]",
      "text/plain": [
       "<Figure size 432x288 with 1 Axes>"
      ]
     },
     "metadata": {
      "needs_background": "light"
     },
     "output_type": "display_data"
    },
    {
     "name": "stdout",
     "output_type": "stream",
     "text": [
      "The label for the image is 7\n"
     ]
    }
   ],
   "source": [
    "plt.imshow(X_test[0])\n",
    "plt.show()\n",
    "print(f'The label for the image is {y_test[0]}')"
   ]
  },
  {
   "cell_type": "markdown",
   "metadata": {},
   "source": [
    "## Data Preprocessing"
   ]
  },
  {
   "cell_type": "markdown",
   "metadata": {},
   "source": [
    "The Conv2D layer accepts the data shape to be of size 3 the third represeting the depth for rgb 3 grayscale 1 and so on.\n",
    "and the features need to scaled down to to a scale of 0 - 1 where 0 pixels represents white and 1 represents complete black,\n",
    "this is so that it will improve the performance of the network when training and to get rid of outliers which will cause bias to the network.\n",
    "\n",
    "And adding categorical features to the output to be passed into the softmax function."
   ]
  },
  {
   "cell_type": "code",
   "execution_count": 53,
   "metadata": {},
   "outputs": [],
   "source": [
    "X_train = X_train.reshape(X_train.shape[0], 28, 28, 1).astype('float32')\n",
    "X_test = X_test.reshape(X_test.shape[0], 28, 28, 1).astype('float32')\n",
    "X_train = X_train / 255\n",
    "X_test = X_test / 255 "
   ]
  },
  {
   "cell_type": "code",
   "execution_count": 54,
   "metadata": {},
   "outputs": [
    {
     "data": {
      "text/plain": [
       "array([0., 0., 0., 0., 0., 0., 0., 1., 0., 0.])"
      ]
     },
     "execution_count": 54,
     "metadata": {},
     "output_type": "execute_result"
    }
   ],
   "source": [
    "from sklearn.preprocessing import OneHotEncoder\n",
    "\n",
    "y_train = y_train.reshape(-1, 1)\n",
    "y_test = y_test.reshape(-1, 1)\n",
    "\n",
    "encoder = OneHotEncoder(categories=[range(n_output)])\n",
    "y_train = encoder.fit_transform(y_train).toarray()\n",
    "y_test = encoder.fit_transform(y_test).toarray()\n",
    "y_test[0]"
   ]
  },
  {
   "cell_type": "markdown",
   "metadata": {},
   "source": [
    "## Model Creation"
   ]
  },
  {
   "cell_type": "code",
   "execution_count": 57,
   "metadata": {},
   "outputs": [],
   "source": [
    "def create_model():\n",
    "    model = Sequential()\n",
    "\n",
    "    model.add(Conv2D(64, (3, 3), padding='valid', input_shape=X_train.shape[1:], activation='relu'))\n",
    "\n",
    "    model.add(MaxPooling2D((2,2)))\n",
    "\n",
    "    model.add(Dropout(0.25))\n",
    "\n",
    "    model.add(Conv2D(32, (3, 3), padding='valid', activation='relu'))\n",
    "\n",
    "    model.add(MaxPooling2D((2,2)))\n",
    "\n",
    "    model.add(Dropout(0.25))\n",
    "\n",
    "    model.add(Conv2D(32, (3, 3), padding='valid', activation='relu'))\n",
    "\n",
    "    model.add(Flatten())\n",
    "\n",
    "    model.add(Dense(128, activation='relu'))\n",
    "\n",
    "    model.add(Dense(n_output, activation='softmax'))\n",
    "\n",
    "    model.compile(optimizer='adam', loss='categorical_crossentropy', metrics=['accuracy'])\n",
    "    \n",
    "    model.summary()\n",
    "    return model"
   ]
  },
  {
   "cell_type": "code",
   "execution_count": 60,
   "metadata": {},
   "outputs": [
    {
     "name": "stdout",
     "output_type": "stream",
     "text": [
      "Model: \"sequential_3\"\n",
      "_________________________________________________________________\n",
      "Layer (type)                 Output Shape              Param #   \n",
      "=================================================================\n",
      "conv2d_5 (Conv2D)            (None, 26, 26, 64)        640       \n",
      "_________________________________________________________________\n",
      "max_pooling2d_3 (MaxPooling2 (None, 13, 13, 64)        0         \n",
      "_________________________________________________________________\n",
      "dropout_3 (Dropout)          (None, 13, 13, 64)        0         \n",
      "_________________________________________________________________\n",
      "conv2d_6 (Conv2D)            (None, 11, 11, 32)        18464     \n",
      "_________________________________________________________________\n",
      "max_pooling2d_4 (MaxPooling2 (None, 5, 5, 32)          0         \n",
      "_________________________________________________________________\n",
      "dropout_4 (Dropout)          (None, 5, 5, 32)          0         \n",
      "_________________________________________________________________\n",
      "conv2d_7 (Conv2D)            (None, 3, 3, 32)          9248      \n",
      "_________________________________________________________________\n",
      "flatten_2 (Flatten)          (None, 288)               0         \n",
      "_________________________________________________________________\n",
      "dense_3 (Dense)              (None, 128)               36992     \n",
      "_________________________________________________________________\n",
      "dense_4 (Dense)              (None, 10)                1290      \n",
      "=================================================================\n",
      "Total params: 66,634\n",
      "Trainable params: 66,634\n",
      "Non-trainable params: 0\n",
      "_________________________________________________________________\n"
     ]
    }
   ],
   "source": [
    "model = create_model()"
   ]
  },
  {
   "cell_type": "code",
   "execution_count": 61,
   "metadata": {},
   "outputs": [
    {
     "name": "stdout",
     "output_type": "stream",
     "text": [
      "Train on 48000 samples, validate on 12000 samples\n",
      "Epoch 1/10\n",
      "48000/48000 [==============================] - 101s 2ms/step - loss: 0.3825 - accuracy: 0.8777 - val_loss: 0.0910 - val_accuracy: 0.9724\n",
      "Epoch 2/10\n",
      "48000/48000 [==============================] - 94s 2ms/step - loss: 0.1057 - accuracy: 0.9671 - val_loss: 0.0640 - val_accuracy: 0.9812\n",
      "Epoch 3/10\n",
      "48000/48000 [==============================] - 94s 2ms/step - loss: 0.0753 - accuracy: 0.9769 - val_loss: 0.0534 - val_accuracy: 0.9847\n",
      "Epoch 4/10\n",
      "48000/48000 [==============================] - 94s 2ms/step - loss: 0.0604 - accuracy: 0.9811 - val_loss: 0.0509 - val_accuracy: 0.9847\n",
      "Epoch 5/10\n",
      "48000/48000 [==============================] - 94s 2ms/step - loss: 0.0524 - accuracy: 0.9839 - val_loss: 0.0484 - val_accuracy: 0.9867\n",
      "Epoch 6/10\n",
      "48000/48000 [==============================] - 94s 2ms/step - loss: 0.0462 - accuracy: 0.9853 - val_loss: 0.0466 - val_accuracy: 0.9866\n",
      "Epoch 7/10\n",
      "48000/48000 [==============================] - 94s 2ms/step - loss: 0.0400 - accuracy: 0.9871 - val_loss: 0.0379 - val_accuracy: 0.9894\n",
      "Epoch 8/10\n",
      "48000/48000 [==============================] - 94s 2ms/step - loss: 0.0385 - accuracy: 0.9874 - val_loss: 0.0405 - val_accuracy: 0.9889\n",
      "Epoch 9/10\n",
      "48000/48000 [==============================] - 98s 2ms/step - loss: 0.0335 - accuracy: 0.9893 - val_loss: 0.0364 - val_accuracy: 0.9904\n",
      "Epoch 10/10\n",
      "48000/48000 [==============================] - 96s 2ms/step - loss: 0.0312 - accuracy: 0.9897 - val_loss: 0.0446 - val_accuracy: 0.9876\n"
     ]
    },
    {
     "data": {
      "text/plain": [
       "<keras.callbacks.callbacks.History at 0x1e134f7a6d8>"
      ]
     },
     "execution_count": 61,
     "metadata": {},
     "output_type": "execute_result"
    }
   ],
   "source": [
    "model.fit(X_train, \n",
    "          y_train, \n",
    "          epochs=10, \n",
    "          batch_size=128, \n",
    "          validation_split=0.2\n",
    "         )"
   ]
  },
  {
   "cell_type": "code",
   "execution_count": 63,
   "metadata": {},
   "outputs": [
    {
     "name": "stdout",
     "output_type": "stream",
     "text": [
      "10000/10000 [==============================] - 5s 531us/step\n",
      "The test loss is 0.03814937393547152\n",
      "The test accuracy is 0.9882000088691711\n"
     ]
    }
   ],
   "source": [
    "model.save('mnist.h5')\n",
    "\n",
    "score = model.evaluate(X_test, y_test)\n",
    "print(f'The test loss is {score[0]}')\n",
    "print(f'The test accuracy is {score[1]}')"
   ]
  },
  {
   "cell_type": "code",
   "execution_count": null,
   "metadata": {},
   "outputs": [],
   "source": []
  }
 ],
 "metadata": {
  "kernelspec": {
   "display_name": "Python 3",
   "language": "python",
   "name": "python3"
  },
  "language_info": {
   "codemirror_mode": {
    "name": "ipython",
    "version": 3
   },
   "file_extension": ".py",
   "mimetype": "text/x-python",
   "name": "python",
   "nbconvert_exporter": "python",
   "pygments_lexer": "ipython3",
   "version": "3.7.3"
  }
 },
 "nbformat": 4,
 "nbformat_minor": 2
}
